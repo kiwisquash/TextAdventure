{
 "cells": [
  {
   "cell_type": "code",
   "execution_count": 44,
   "metadata": {},
   "outputs": [],
   "source": [
    "import random\n",
    "\n",
    "class Room:\n",
    "    def __init__(self,message):\n",
    "        self.message = message\n",
    "    def getMessage(self):\n",
    "        return self.message\n",
    "    def setMessage(self,message):\n",
    "        self.message = message\n",
    "    def printMessage(self):\n",
    "        print(self.message)\n",
    "    def affectPlayer(self,player):\n",
    "        pass\n",
    "\n",
    "class Exit(Room):\n",
    "    def affectPlayer(self,player):\n",
    "        player.win()\n",
    "\n",
    "map = []\n",
    "exitX = random.randint(0,2)\n",
    "exitY = random.randint(0,2)\n",
    "for i in range(3):\n",
    "    map.append([])\n",
    "    for j in range(3):\n",
    "        if j == exitY and i == exitX:\n",
    "            map[i].append(Exit(\"This is the exit!\"))\n",
    "        else:\n",
    "            map[i].append(Room(\"This is a room. Nothing special here\"))"
   ]
  },
  {
   "cell_type": "code",
   "execution_count": 45,
   "metadata": {},
   "outputs": [
    {
     "name": "stdout",
     "output_type": "stream",
     "text": [
      "This is a room. Nothing special here\n",
      "This is the exit!\n",
      "This is a room. Nothing special here\n",
      "This is a room. Nothing special here\n",
      "This is a room. Nothing special here\n",
      "This is a room. Nothing special here\n",
      "This is a room. Nothing special here\n",
      "This is a room. Nothing special here\n",
      "This is a room. Nothing special here\n"
     ]
    }
   ],
   "source": [
    "for i in range(3):\n",
    "    for j in range(3):\n",
    "        map[i][j].printMessage()"
   ]
  },
  {
   "cell_type": "code",
   "execution_count": 46,
   "metadata": {},
   "outputs": [],
   "source": [
    "class Player:\n",
    "    def __init__(self,x=0,y=0):\n",
    "        self.x = x\n",
    "        self.y = y\n",
    "        self.victory = False\n",
    "    def getStatus(self):\n",
    "        return self.victory\n",
    "    def setStatus(self,status):\n",
    "        self.victory = status\n",
    "    def win(self):\n",
    "        self.setStatus(True)\n",
    "    def getX(self):\n",
    "        return self.x\n",
    "    def getY(self):\n",
    "        return self.y\n",
    "    def setX(self,x):\n",
    "        self.x = x\n",
    "    def setY(self,y):\n",
    "        self.y = y\n",
    "    def moveL(self):\n",
    "        self.x-=1\n",
    "    def moveR(self):\n",
    "        self.x+=1\n",
    "    def moveU(self):\n",
    "        self.y+=1\n",
    "    def moveD(self):\n",
    "        self.y-=1\n",
    "    def position(self):\n",
    "        return (self.getX(),self.getY())\n",
    "    def printPos(self):\n",
    "        output = \"Your current position is \"\n",
    "        output += str(self.position())\n",
    "        print(output)\n"
   ]
  },
  {
   "cell_type": "code",
   "execution_count": 48,
   "metadata": {},
   "outputs": [],
   "source": [
    "bob = Player(0,0)"
   ]
  },
  {
   "cell_type": "code",
   "execution_count": 56,
   "metadata": {},
   "outputs": [
    {
     "name": "stdout",
     "output_type": "stream",
     "text": [
      "This is the exit!\n"
     ]
    }
   ],
   "source": [
    "currentRoom = map[bob.getY()][bob.getX()]\n",
    "currentRoom.printMessage()\n",
    "bob.moveR()\n"
   ]
  },
  {
   "cell_type": "code",
   "execution_count": 57,
   "metadata": {},
   "outputs": [],
   "source": [
    "currentRoom.affectPlayer(bob)"
   ]
  },
  {
   "cell_type": "code",
   "execution_count": 58,
   "metadata": {},
   "outputs": [
    {
     "data": {
      "text/plain": [
       "True"
      ]
     },
     "execution_count": 58,
     "metadata": {},
     "output_type": "execute_result"
    }
   ],
   "source": [
    "bob.getStatus()"
   ]
  },
  {
   "cell_type": "code",
   "execution_count": null,
   "metadata": {
    "collapsed": true
   },
   "outputs": [],
   "source": []
  }
 ],
 "metadata": {
  "kernelspec": {
   "display_name": "Python 3",
   "language": "python",
   "name": "python3"
  },
  "language_info": {
   "codemirror_mode": {
    "name": "ipython",
    "version": 3
   },
   "file_extension": ".py",
   "mimetype": "text/x-python",
   "name": "python",
   "nbconvert_exporter": "python",
   "pygments_lexer": "ipython3",
   "version": "3.6.3"
  }
 },
 "nbformat": 4,
 "nbformat_minor": 2
}
